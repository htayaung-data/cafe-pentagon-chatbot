{
 "cells": [
  {
   "cell_type": "markdown",
   "metadata": {},
   "source": [
    "# Section 1: Executive Summary & Project Overview\n",
    "\n",
    "This notebook contains the comprehensive documentation for Section 1 of the Cafe Pentagon RAG Chatbot project."
   ]
  },
  {
   "cell_type": "markdown",
   "metadata": {},
   "source": [
    "## 1.1 Project Purpose and Business Context\n",
    "\n",
    "The **Cafe Pentagon RAG Chatbot** is a sophisticated, AI-powered conversational system designed to enhance customer service and operational efficiency for Cafe Pentagon, a restaurant located in Yangon, Myanmar. This project represents a modern approach to customer engagement, leveraging cutting-edge artificial intelligence and natural language processing technologies to provide seamless, multilingual customer support."
   ]
  },
  {
   "cell_type": "code",
   "execution_count": null,
   "metadata": {},
   "outputs": [],
   "source": [
    "# Business Objectives\n",
    "business_objectives = [\n",
    "    \"**Enhanced Customer Experience**: Provide instant, accurate responses to customer inquiries 24/7\",\n",
    "    \"**Operational Efficiency**: Reduce manual customer service workload and improve response times\",\n",
    "    \"**Multilingual Support**: Serve both English and Burmese-speaking customers effectively\",\n",
    "    \"**Revenue Generation**: Facilitate order placement, reservations, and promotional engagement\",\n",
    "    \"**Data-Driven Insights**: Collect and analyze customer interaction patterns for business optimization\"\n",
    "]\n",
    "\n",
    "print(\"Business Objectives:\")\n",
    "for i, objective in enumerate(business_objectives, 1):\n",
    "    print(f\"{i}. {objective}\")"
   ]
  },
  {
   "cell_type": "code",
   "execution_count": null,
   "metadata": {},
   "outputs": [],
   "source": [
    "# Target Market\n",
    "target_market = {\n",
    "    \"Primary\": \"Cafe Pentagon customers in Yangon, Myanmar\",\n",
    "    \"Secondary\": \"Potential customers seeking restaurant information and services\",\n",
    "    \"Platforms\": \"Facebook Messenger users, web interface users\"\n",
    "}\n",
    "\n",
    "print(\"Target Market:\")\n",
    "for key, value in target_market.items():\n",
    "    print(f\"- {key}: {value}\")"
   ]
  },
  {
   "cell_type": "markdown",
   "metadata": {},
   "source": [
    "## 1.2 Key Features and Capabilities\n",
    "\n",
    "### Core AI-Powered Functions"
   ]
  },
  {
   "cell_type": "code",
   "execution_count": null,
   "metadata": {},
   "outputs": [],
   "source": [
    "# Intelligent Intent Classification\n",
    "intent_classification_features = [\n",
    "    \"**AI-Driven Detection**: Uses OpenAI GPT-4 for dynamic intent classification instead of hardcoded keyword matching\",\n",
    "    \"**Context Awareness**: Understands user intent based on conversation context and natural language patterns\",\n",
    "    \"**Multi-Intent Recognition**: Capable of identifying multiple intents within a single user message\",\n",
    "    \"**Confidence Scoring**: Provides confidence levels for intent classification accuracy\"\n",
    "]\n",
    "\n",
    "print(\"1. Intelligent Intent Classification:\")\n",
    "for feature in intent_classification_features:\n",
    "    print(f\"   - {feature}\")"
   ]
  },
  {
   "cell_type": "code",
   "execution_count": null,
   "metadata": {},
   "outputs": [],
   "source": [
    "# Enhanced Response Generation\n",
    "response_generation_features = [\n",
    "    \"**AI-Generated Responses**: Leverages GPT-4 for contextual, natural-sounding responses\",\n",
    "    \"**Multilingual Optimization**: Specialized handling for both English and Burmese languages\",\n",
    "    \"**Contextual Awareness**: Incorporates relevant data (menu items, FAQ, events) into responses\",\n",
    "    \"**Fallback Mechanisms**: Graceful degradation to template-based responses when AI services are unavailable\"\n",
    "]\n",
    "\n",
    "print(\"2. Enhanced Response Generation:\")\n",
    "for feature in response_generation_features:\n",
    "    print(f\"   - {feature}\")"
   ]
  },
  {
   "cell_type": "code",
   "execution_count": null,
   "metadata": {},
   "outputs": [],
   "source": [
    "# Independent Embedding Service\n",
    "embedding_service_features = [\n",
    "    \"**Decoupled Architecture**: Pinecone data embedding runs independently, not on every application startup\",\n",
    "    \"**Efficient Updates**: Only updates embeddings when data files are modified\",\n",
    "    \"**Selective Processing**: Can update specific data types (menu, FAQ, events) independently\",\n",
    "    \"**Status Monitoring**: Real-time tracking of embedding status and data freshness\"\n",
    "]\n",
    "\n",
    "print(\"3. Independent Embedding Service:\")\n",
    "for feature in embedding_service_features:\n",
    "    print(f\"   - {feature}\")"
   ]
  },
  {
   "cell_type": "markdown",
   "metadata": {},
   "source": [
    "### Multilingual Support"
   ]
  },
  {
   "cell_type": "code",
   "execution_count": null,
   "metadata": {},
   "outputs": [],
   "source": [
    "# Language Detection\n",
    "language_detection_features = [\n",
    "    \"**Automatic Detection**: Automatically identifies user language (English or Burmese)\",\n",
    "    \"**Manual Override**: Allows users to specify their preferred language\",\n",
    "    \"**Context Preservation**: Maintains conversation context across language switches\"\n",
    "]\n",
    "\n",
    "print(\"1. Language Detection:\")\n",
    "for feature in language_detection_features:\n",
    "    print(f\"   - {feature}\")\n",
    "\n",
    "print(\"\\n2. Burmese Language Processing:\")\n",
    "burmese_features = [\n",
    "    \"**Specialized Handler**: Dedicated Burmese customer service handler for optimal local language support\",\n",
    "    \"**Cultural Context**: Incorporates Myanmar-specific cultural and linguistic nuances\",\n",
    "    \"**Local Business Practices**: Adapts responses to local business customs and expectations\"\n",
    "]\n",
    "for feature in burmese_features:\n",
    "    print(f\"   - {feature}\")"
   ]
  },
  {
   "cell_type": "markdown",
   "metadata": {},
   "source": [
    "### Customer Service Capabilities"
   ]
  },
  {
   "cell_type": "code",
   "execution_count": null,
   "metadata": {},
   "outputs": [],
   "source": [
    "# Customer Service Capabilities\n",
    "customer_service_capabilities = {\n",
    "    \"Menu and Ordering\": [\n",
    "        \"**Comprehensive Menu Browsing**: Detailed menu exploration with categories, descriptions, and pricing\",\n",
    "        \"**Dietary Restrictions**: Support for vegetarian, vegan, gluten-free, and allergen-aware queries\",\n",
    "        \"**Spice Level Preferences**: Accommodates different spice tolerance levels\",\n",
    "        \"**Order Facilitation**: Guides users through the ordering process\"\n",
    "    ],\n",
    "    \"Reservation Management\": [\n",
    "        \"**Table Booking**: Streamlined reservation process with availability checking\",\n",
    "        \"**Date and Time Selection**: Flexible scheduling options\",\n",
    "        \"**Party Size Handling**: Accommodates various group sizes\",\n",
    "        \"**Confirmation System**: Automated reservation confirmations and reminders\"\n",
    "    ],\n",
    "    \"Event and Promotion Management\": [\n",
    "        \"**Event Information**: Detailed event listings and descriptions\",\n",
    "        \"**Promotional Offers**: Current deals and special offers\",\n",
    "        \"**Booking Integration**: Direct event booking capabilities\",\n",
    "        \"**Calendar Integration**: Event scheduling and reminder systems\"\n",
    "    ],\n",
    "    \"FAQ and Support\": [\n",
    "        \"**Comprehensive FAQ**: Extensive knowledge base covering common customer questions\",\n",
    "        \"**Dynamic Responses**: AI-generated answers based on current information\",\n",
    "        \"**Complaint Handling**: Structured approach to customer complaints and issues\",\n",
    "        \"**Escalation System**: Seamless handoff to human agents when necessary\"\n",
    "    ]\n",
    "}\n",
    "\n",
    "for capability, features in customer_service_capabilities.items():\n",
    "    print(f\"{capability}:\")\n",
    "    for feature in features:\n",
    "        print(f\"   - {feature}\")\n",
    "    print()"
   ]
  },
  {
   "cell_type": "markdown",
   "metadata": {},
   "source": [
    "## 1.3 Technology Stack Overview"
   ]
  },
  {
   "cell_type": "code",
   "execution_count": null,
   "metadata": {},
   "outputs": [],
   "source": [
    "# Technology Stack\n",
    "tech_stack = {\n",
    "    \"Core AI and Machine Learning\": [\n",
    "        \"**OpenAI GPT-4**: Primary language model for intent classification and response generation\",\n",
    "        \"**LangChain**: Framework for building LLM-powered applications\",\n",
    "        \"**LangGraph**: Tool for creating stateful, multi-actor applications with LLMs\",\n",
    "        \"**Pinecone**: Vector database for semantic search and data retrieval\"\n",
    "    ],\n",
    "    \"Web Frameworks and APIs\": [\n",
    "        \"**FastAPI**: High-performance web framework for building APIs\",\n",
    "        \"**Streamlit**: Rapid web application development for the admin interface\",\n",
    "        \"**Uvicorn**: ASGI server for running FastAPI applications\",\n",
    "        \"**AIOHTTP**: Asynchronous HTTP client/server framework\"\n",
    "    ],\n",
    "    \"Data Processing and Management\": [\n",
    "        \"**Pandas**: Data manipulation and analysis\",\n",
    "        \"**NumPy**: Numerical computing\",\n",
    "        \"**Pydantic**: Data validation and settings management\",\n",
    "        \"**SQLAlchemy**: Database toolkit and ORM\"\n",
    "    ],\n",
    "    \"External Integrations\": [\n",
    "        \"**Facebook Messenger API**: Social media platform integration\",\n",
    "        \"**Google Sheets API**: External data source integration\",\n",
    "        \"**Supabase**: Backend-as-a-Service for user management and data storage\",\n",
    "        \"**Redis**: Caching and session management (optional)\"\n",
    "    ],\n",
    "    \"Development and Quality Assurance\": [\n",
    "        \"**Python 3.8+**: Primary programming language\",\n",
    "        \"**Pytest**: Testing framework\",\n",
    "        \"**Black**: Code formatting\",\n",
    "        \"**Flake8**: Code linting\",\n",
    "        \"**MyPy**: Static type checking\"\n",
    "    ],\n",
    "    \"Monitoring and Logging\": [\n",
    "        \"**Structlog**: Structured logging\",\n",
    "        \"**Sentry**: Error tracking and performance monitoring\"\n",
    "    ]\n",
    "}\n",
    "\n",
    "for category, technologies in tech_stack.items():\n",
    "    print(f\"{category}:\")\n",
    "    for tech in technologies:\n",
    "        print(f\"   - {tech}\")\n",
    "    print()"
   ]
  },
  {
   "cell_type": "markdown",
   "metadata": {},
   "source": [
    "## 1.4 Architecture High-Level Design\n",
    "\n",
    "### System Architecture Overview\n",
    "\n",
    "The Cafe Pentagon RAG Chatbot follows a **modular, microservices-inspired architecture** with clear separation of concerns:"
   ]
  },
  {
   "cell_type": "code",
   "execution_count": null,
   "metadata": {},
   "outputs": [],
   "source": [
    "# Architecture Diagram\n",
    "architecture_diagram = \"\"\"\n",
    "┌─────────────────────────────────────────────────────────────────┐\n",
    "│                    Presentation Layer                           │\n",
    "├─────────────────────────────────────────────────────────────────┤\n",
    "│  Facebook Messenger  │  Streamlit Web UI  │  REST API Endpoints │\n",
    "└─────────────────────┼─────────────────────┼─────────────────────┘\n",
    "                      │                     │\n",
    "┌─────────────────────┼─────────────────────┼─────────────────────┐\n",
    "│                    Application Layer                            │\n",
    "├─────────────────────────────────────────────────────────────────┤\n",
    "│  Main Agent  │  Intent Classifier  │  Response Generator       │\n",
    "│  Conversation Manager  │  Burmese Handler  │  Conversation Flow │\n",
    "└─────────────────────┼─────────────────────┼─────────────────────┘\n",
    "                      │                     │\n",
    "┌─────────────────────┼─────────────────────┼─────────────────────┐\n",
    "│                    Service Layer                               │\n",
    "├─────────────────────────────────────────────────────────────────┤\n",
    "│  Facebook Service  │  Embedding Service  │  Vector Search      │\n",
    "│  User Manager      │  Image Storage      │  Supabase Service   │\n",
    "└─────────────────────┼─────────────────────┼─────────────────────┘\n",
    "                      │                     │\n",
    "┌─────────────────────┼─────────────────────┼─────────────────────┐\n",
    "│                    Data Layer                                  │\n",
    "├─────────────────────────────────────────────────────────────────┤\n",
    "│  Pinecone Vector DB  │  JSON Data Files  │  Supabase Database  │\n",
    "│  Redis Cache (Opt)   │  Image Storage    │  Log Files          │\n",
    "└─────────────────────┴─────────────────────┴─────────────────────┘\n",
    "\"\"\"\n",
    "\n",
    "print(architecture_diagram)"
   ]
  },
  {
   "cell_type": "markdown",
   "metadata": {},
   "source": [
    "### Key Architectural Principles"
   ]
  },
  {
   "cell_type": "code",
   "execution_count": null,
   "metadata": {},
   "outputs": [],
   "source": [
    "# Architectural Principles\n",
    "architectural_principles = {\n",
    "    \"Modular Design\": [\n",
    "        \"**Separation of Concerns**: Each component has a single, well-defined responsibility\",\n",
    "        \"**Loose Coupling**: Components communicate through well-defined interfaces\",\n",
    "        \"**High Cohesion**: Related functionality is grouped together within modules\"\n",
    "    ],\n",
    "    \"Agent-Based Architecture\": [\n",
    "        \"**Main Agent**: Orchestrates the overall conversation flow\",\n",
    "        \"**Specialized Agents**: Dedicated agents for specific tasks (intent classification, response generation)\",\n",
    "        \"**State Management**: Centralized conversation state management\",\n",
    "        \"**Error Handling**: Graceful error handling and recovery mechanisms\"\n",
    "    ],\n",
    "    \"Service-Oriented Design\": [\n",
    "        \"**Independent Services**: Each service can operate independently\",\n",
    "        \"**API-First Approach**: Services expose well-defined APIs\",\n",
    "        \"**Scalability**: Services can be scaled independently based on demand\",\n",
    "        \"**Maintainability**: Easy to modify or replace individual services\"\n",
    "    ],\n",
    "    \"Data-Driven Architecture\": [\n",
    "        \"**Vector Database**: Semantic search capabilities for relevant information retrieval\",\n",
    "        \"**Caching Strategy**: Multi-level caching for performance optimization\",\n",
    "        \"**Data Persistence**: Reliable data storage and retrieval mechanisms\",\n",
    "        \"**Data Validation**: Comprehensive data validation and error handling\"\n",
    "    ]\n",
    "}\n",
    "\n",
    "for principle, features in architectural_principles.items():\n",
    "    print(f\"{principle}:\")\n",
    "    for feature in features:\n",
    "        print(f\"   - {feature}\")\n",
    "    print()"
   ]
  },
  {
   "cell_type": "markdown",
   "metadata": {},
   "source": [
    "### Data Flow Architecture"
   ]
  },
  {
   "cell_type": "code",
   "execution_count": null,
   "metadata": {},
   "outputs": [],
   "source": [
    "# Data Flow Architecture\n",
    "data_flows = {\n",
    "    \"User Input Processing\": \"User Message → Language Detection → Intent Classification → Context Retrieval → Response Generation → User Response\",\n",
    "    \"Data Retrieval Flow\": \"Query → Vector Search → Semantic Matching → Relevant Data → Context Integration → Response Enhancement\",\n",
    "    \"Embedding Pipeline\": \"Data Files → Content Processing → OpenAI Embeddings → Pinecone Storage → Index Management\"\n",
    "}\n",
    "\n",
    "for flow_name, flow_description in data_flows.items():\n",
    "    print(f\"{flow_name}:\")\n",
    "    print(f\"   {flow_description}\")\n",
    "    print()"
   ]
  },
  {
   "cell_type": "markdown",
   "metadata": {},
   "source": [
    "## 1.5 Target Users and Use Cases\n",
    "\n",
    "### Primary User Personas"
   ]
  },
  {
   "cell_type": "code",
   "execution_count": null,
   "metadata": {},
   "outputs": [],
   "source": [
    "# User Personas\n",
    "user_personas = {\n",
    "    \"Cafe Customers\": {\n",
    "        \"profile\": \"Local and international customers seeking food and service information\",\n",
    "        \"needs\": [\"Menu information\", \"Ordering assistance\", \"Reservations\", \"Event details\"],\n",
    "        \"pain_points\": [\"Language barriers\", \"Long wait times\", \"Limited service hours\"],\n",
    "        \"benefits\": [\"24/7 availability\", \"Multilingual support\", \"Instant responses\"]\n",
    "    },\n",
    "    \"Restaurant Staff\": {\n",
    "        \"profile\": \"Cafe Pentagon employees managing customer interactions\",\n",
    "        \"needs\": [\"Customer query handling\", \"Order management\", \"Reservation coordination\"],\n",
    "        \"pain_points\": [\"High workload\", \"Repetitive questions\", \"Language barriers\"],\n",
    "        \"benefits\": [\"Reduced manual workload\", \"Consistent responses\", \"Multilingual support\"]\n",
    "    },\n",
    "    \"Management Team\": {\n",
    "        \"profile\": \"Restaurant owners and managers\",\n",
    "        \"needs\": [\"Customer insights\", \"Operational efficiency\", \"Business analytics\"],\n",
    "        \"pain_points\": [\"Limited visibility into customer interactions\", \"Manual reporting\"],\n",
    "        \"benefits\": [\"Data-driven insights\", \"Automated reporting\", \"Performance monitoring\"]\n",
    "    }\n",
    "}\n",
    "\n",
    "for persona, details in user_personas.items():\n",
    "    print(f\"{persona}:\")\n",
    "    print(f\"   Profile: {details['profile']}\")\n",
    "    print(f\"   Needs: {', '.join(details['needs'])}\")\n",
    "    print(f\"   Pain Points: {', '.join(details['pain_points'])}\")\n",
    "    print(f\"   Benefits: {', '.join(details['benefits'])}\")\n",
    "    print()"
   ]
  },
  {
   "cell_type": "markdown",
   "metadata": {},
   "source": [
    "### Use Case Scenarios"
   ]
  },
  {
   "cell_type": "code",
   "execution_count": null,
   "metadata": {},
   "outputs": [],
   "source": [
    "# Use Case Scenarios\n",
    "use_case_scenarios = {\n",
    "    \"Menu Inquiry and Ordering\": {\n",
    "        \"scenario\": \"Customer asks about menu items, dietary restrictions, or pricing\",\n",
    "        \"flow\": \"Intent classification → Menu search → Dietary filtering → Response generation\",\n",
    "        \"outcome\": \"Accurate menu information with personalized recommendations\"\n",
    "    },\n",
    "    \"Reservation Management\": {\n",
    "        \"scenario\": \"Customer wants to book a table for a specific date and time\",\n",
    "        \"flow\": \"Intent classification → Availability check → Reservation creation → Confirmation\",\n",
    "        \"outcome\": \"Successful table booking with confirmation details\"\n",
    "    },\n",
    "    \"Event and Promotion Engagement\": {\n",
    "        \"scenario\": \"Customer inquires about upcoming events or promotional offers\",\n",
    "        \"flow\": \"Intent classification → Event search → Promotion details → Booking facilitation\",\n",
    "        \"outcome\": \"Event information and booking assistance\"\n",
    "    },\n",
    "    \"Customer Support and Complaints\": {\n",
    "        \"scenario\": \"Customer has questions or complaints about service or food\",\n",
    "        \"flow\": \"Intent classification → FAQ search → Issue resolution → Escalation if needed\",\n",
    "        \"outcome\": \"Timely resolution or appropriate escalation to human agents\"\n",
    "    },\n",
    "    \"Multilingual Customer Service\": {\n",
    "        \"scenario\": \"Burmese-speaking customer needs assistance in their native language\",\n",
    "        \"flow\": \"Language detection → Burmese handler → Localized response → Cultural context\",\n",
    "        \"outcome\": \"Culturally appropriate, language-specific customer service\"\n",
    "    }\n",
    "}\n",
    "\n",
    "for scenario, details in use_case_scenarios.items():\n",
    "    print(f\"{scenario}:\")\n",
    "    print(f\"   Scenario: {details['scenario']}\")\n",
    "    print(f\"   Flow: {details['flow']}\")\n",
    "    print(f\"   Outcome: {details['outcome']}\")\n",
    "    print()"
   ]
  },
  {
   "cell_type": "markdown",
   "metadata": {},
   "source": [
    "### Success Metrics"
   ]
  },
  {
   "cell_type": "code",
   "execution_count": null,
   "metadata": {},
   "outputs": [],
   "source": [
    "# Success Metrics\n",
    "success_metrics = {\n",
    "    \"Customer Satisfaction\": [\n",
    "        \"Response accuracy and relevance\",\n",
    "        \"Response time and availability\",\n",
    "        \"Customer engagement and retention\",\n",
    "        \"Multilingual service quality\"\n",
    "    ],\n",
    "    \"Operational Efficiency\": [\n",
    "        \"Reduction in manual customer service workload\",\n",
    "        \"Improved response times\",\n",
    "        \"Increased order and reservation volume\",\n",
    "        \"Enhanced customer self-service capabilities\"\n",
    "    ],\n",
    "    \"Business Impact\": [\n",
    "        \"Revenue generation through facilitated orders and reservations\",\n",
    "        \"Customer acquisition and retention\",\n",
    "        \"Brand reputation and customer loyalty\",\n",
    "        \"Operational cost reduction\"\n",
    "    ]\n",
    "}\n",
    "\n",
    "for metric_category, metrics in success_metrics.items():\n",
    "    print(f\"{metric_category}:\")\n",
    "    for metric in metrics:\n",
    "        print(f\"   - {metric}\")\n",
    "    print()"
   ]
  },
  {
   "cell_type": "markdown",
   "metadata": {},
   "source": [
    "## Conclusion\n",
    "\n",
    "This executive summary provides a comprehensive overview of the Cafe Pentagon RAG Chatbot project, establishing the foundation for understanding the system's purpose, capabilities, and value proposition. The subsequent sections will dive deeper into the technical implementation details, architecture, and operational aspects of the system."
   ]
  },
  {
   "cell_type": "code",
   "execution_count": null,
   "metadata": {},
   "outputs": [],
   "source": [
    "# Summary of all data structures for easy access\n",
    "print(\"Available data structures in this notebook:\")\n",
    "print(\"1. business_objectives - List of business objectives\")\n",
    "print(\"2. target_market - Dictionary of target market segments\")\n",
    "print(\"3. intent_classification_features - Features of intent classification\")\n",
    "print(\"4. response_generation_features - Features of response generation\")\n",
    "print(\"5. embedding_service_features - Features of embedding service\")\n",
    "print(\"6. customer_service_capabilities - Customer service capabilities\")\n",
    "print(\"7. tech_stack - Complete technology stack\")\n",
    "print(\"8. architectural_principles - Key architectural principles\")\n",
    "print(\"9. data_flows - Data flow descriptions\")\n",
    "print(\"10. user_personas - User persona definitions\")\n",
    "print(\"11. use_case_scenarios - Use case scenarios\")\n",
    "print(\"12. success_metrics - Success metrics by category\")\n",
    "print(\"\\nYou can access any of these variables to work with the data programmatically.\")"
   ]
  }
 ],
 "metadata": {
  "kernelspec": {
   "display_name": "Python 3",
   "language": "python",
   "name": "python3"
  },
  "language_info": {
   "codemirror_mode": {
    "name": "ipython",
    "version": 3
   },
   "file_extension": ".py",
   "mimetype": "text/x-python",
   "name": "python",
   "nbconvert_exporter": "python",
   "pygments_lexer": "ipython3",
   "version": "3.8.0"
  }
 },
 "nbformat": 4,
 "nbformat_minor": 4
}
